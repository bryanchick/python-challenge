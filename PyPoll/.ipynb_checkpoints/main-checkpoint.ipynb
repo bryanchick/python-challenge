{
 "cells": [
  {
   "cell_type": "code",
   "execution_count": 1,
   "metadata": {},
   "outputs": [],
   "source": [
    "import csv\n",
    "import os\n",
    "import itertools"
   ]
  },
  {
   "cell_type": "code",
   "execution_count": 2,
   "metadata": {},
   "outputs": [],
   "source": [
    "candidates =[]\n",
    "total_votes = 0"
   ]
  },
  {
   "cell_type": "code",
   "execution_count": 3,
   "metadata": {},
   "outputs": [],
   "source": [
    "csvpath = os.path.join('election_data.csv')\n",
    "with open(csvpath, newline='') as votes:\n",
    "    csvreader = csv.DictReader(votes)\n",
    "    for row in itertools.islice(csvreader, 1, None):\n",
    "        if row[\"Candidate\"] not in candidates:\n",
    "            total_votes += 1\n",
    "            candidates.append(row[\"Candidate\"])\n",
    "        else:\n",
    "            total_votes += 1"
   ]
  },
  {
   "cell_type": "code",
   "execution_count": 4,
   "metadata": {},
   "outputs": [],
   "source": [
    "spot = 0\n",
    "length = len(candidates)\n",
    "vote_count = [0] * length"
   ]
  },
  {
   "cell_type": "code",
   "execution_count": 5,
   "metadata": {
    "scrolled": false
   },
   "outputs": [
    {
     "name": "stdout",
     "output_type": "stream",
     "text": [
      "The Election Results\n",
      "::::::::::::::::::::::::\n",
      "Correy : Percent:  20.0 : Votes Received:  704200\n",
      "Khan : Percent:  63.0 : Votes Received:  2218231\n",
      "Li : Percent:  14.0 : Votes Received:  492940\n",
      "O'Tooley : Percent:  3.0 : Votes Received:  105630\n",
      "::::::::::::::::::::::::\n",
      "Total votes are: 3521000\n",
      "::::::::::::::::::::::::\n",
      "And the Winner is Khan\n"
     ]
    }
   ],
   "source": [
    "with open (csvpath, newline= '') as votes:\n",
    "    csvreader = csv.reader(votes) \n",
    "    for row in itertools.islice(csvreader, 1, None):\n",
    "        for spot in range(length):\n",
    "            if row[2] == candidates[spot]:\n",
    "                vote_count[spot] +=1\n",
    "\n",
    "spot2 = 0\n",
    "\n",
    "percent_votes = []     \n",
    "\n",
    "for spot2 in range(length):\n",
    "    pv = round(vote_count[spot2] / total_votes * 100.00, 2)\n",
    "    percent_votes.append(pv)\n",
    "\n",
    "max_votes = max(vote_count)\n",
    "max_index = vote_count.index(max_votes)\n",
    "election_winner = candidates[max_index]\n",
    "\n",
    "print(\"The Election Results\")\n",
    "print(\"::::::::::::::::::::::::\")\n",
    "for (c,pv,vc) in zip(candidates, percent_votes, vote_count):\n",
    "    print(c, \": Percent: \", pv, \": Votes Received: \", vc)\n",
    "print(\"::::::::::::::::::::::::\")\n",
    "print(\"Total votes are: \" + str(total_votes))\n",
    "print(\"::::::::::::::::::::::::\")\n",
    "print(\"And the Winner is \" + str(election_winner))"
   ]
  },
  {
   "cell_type": "code",
   "execution_count": 6,
   "metadata": {
    "scrolled": true
   },
   "outputs": [],
   "source": [
    "file = open(\"Election Results.txt\",\"w\")\n",
    "file.write(\"The Election Results\\n\")\n",
    "file.write(\":::::::::::::::::::::::::::::\\n\")\n",
    "for (c,pv,vc) in zip(candidates, percent_votes, vote_count):\n",
    "    file.write(str(c)+ \"; Percent: \"+ str(pv)+ \"; Votes Received: \"+ str(vc)+\"\\n\")         \n",
    "file.write(\"::::::::::::::::::::::::::::\\n\")\n",
    "file.write(\"Total votes are: \" + str(total_votes)+\"\\n\")\n",
    "file.write(\"::::::::::::::::::::::::::::\\n\")\n",
    "file.write(\"And the Winner is \" + str(election_winner)+\"\\n\")\n",
    "file.close()"
   ]
  },
  {
   "cell_type": "code",
   "execution_count": null,
   "metadata": {},
   "outputs": [],
   "source": []
  }
 ],
 "metadata": {
  "kernelspec": {
   "display_name": "Python 3",
   "language": "python",
   "name": "python3"
  },
  "language_info": {
   "codemirror_mode": {
    "name": "ipython",
    "version": 3
   },
   "file_extension": ".py",
   "mimetype": "text/x-python",
   "name": "python",
   "nbconvert_exporter": "python",
   "pygments_lexer": "ipython3",
   "version": "3.7.0"
  }
 },
 "nbformat": 4,
 "nbformat_minor": 2
}
