{
 "cells": [
  {
   "cell_type": "code",
   "execution_count": 1,
   "metadata": {},
   "outputs": [],
   "source": [
    "import os\n",
    "import csv\n",
    "from collections import Counter\n",
    "from statistics import mean"
   ]
  },
  {
   "cell_type": "code",
   "execution_count": 2,
   "metadata": {},
   "outputs": [],
   "source": [
    "with open('budget_data1.csv', 'r') as f:\n",
    "    months = []\n",
    "    column_vals = []\n",
    "    reader = csv.reader(f)\n",
    "    next(reader)\n",
    "    for row in reader:\n",
    "        column_vals.append(int(row[1]))\n",
    "        months.append(row[0])"
   ]
  },
  {
   "cell_type": "code",
   "execution_count": 3,
   "metadata": {},
   "outputs": [],
   "source": [
    "differences = []\n",
    "\n",
    "for element in zip(column_vals, column_vals[1:]):\n",
    "    nth, nth1 = element \n",
    "    diff = nth1 - nth  \n",
    "    differences.append(diff)"
   ]
  },
  {
   "cell_type": "code",
   "execution_count": 5,
   "metadata": {},
   "outputs": [
    {
     "name": "stdout",
     "output_type": "stream",
     "text": [
      "Financial Analysis\n",
      "-------------------------\n",
      "Total Months: 86\n",
      "Total: 38382578\n",
      "Average Change: 446309.0465116279\n",
      "Greatest Increase in Profits: 1926159 was done on Feb-2012\n",
      "Greatest Decrease in Profits: -2196167 was done on Sep-2013\n"
     ]
    }
   ],
   "source": [
    "print(\"Financial Analysis\")\n",
    "print(\"-------------------------\")\n",
    "TotalMonths = f\"Total Months: {(len(column_vals))}\"\n",
    "print(TotalMonths)\n",
    "totalSum = f\"Total: {(sum(column_vals))}\"\n",
    "print(totalSum)\n",
    "AverageChange = f\"Average Change: {(mean(column_vals))}\"\n",
    "print(AverageChange)\n",
    "GreatIncInP = f\"Greatest Increase in Profits: {(max(differences))}\"\n",
    "print(GreatIncInP +\" was done on \"+months[differences.index(max(differences)) + 1])\n",
    "GreatDecInP = f\"Greatest Decrease in Profits: {(min(differences))}\"\n",
    "print(GreatDecInP + \" was done on \"+months[differences.index(min(differences)) + 1])"
   ]
  },
  {
   "cell_type": "code",
   "execution_count": null,
   "metadata": {},
   "outputs": [],
   "source": []
  }
 ],
 "metadata": {
  "kernelspec": {
   "display_name": "Python 3",
   "language": "python",
   "name": "python3"
  },
  "language_info": {
   "codemirror_mode": {
    "name": "ipython",
    "version": 3
   },
   "file_extension": ".py",
   "mimetype": "text/x-python",
   "name": "python",
   "nbconvert_exporter": "python",
   "pygments_lexer": "ipython3",
   "version": "3.7.0"
  }
 },
 "nbformat": 4,
 "nbformat_minor": 2
}
